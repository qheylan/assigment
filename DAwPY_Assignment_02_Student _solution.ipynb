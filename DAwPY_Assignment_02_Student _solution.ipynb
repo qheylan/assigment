{
 "cells": [
  {
   "cell_type": "markdown",
   "metadata": {
    "id": "vZC7s_SZ-dbO"
   },
   "source": [
    "___\n",
    "\n",
    "<!-- <a><img src=\"https://colab.research.google.com/assets/colab-badge.svg\" align=\"left\"></a>\n",
    "\n",
    "<img src=\"https://raw.githubusercontent.com/jupyter/design/master/logos/Badges/nbviewer_badge.svg\" align=\"right\"><br> -->\n",
    "\n",
    "\n",
    "<a href=\"\"><img align=\"left\" src=\"https://colab.research.google.com/assets/colab-badge.svg\" alt=\"Open in Colab\" title=\"This will be active in Solution Notebook\"></a>\n",
    "\n",
    "<a href=\"\" style=\"float: right\" target=\"_blank\">\n",
    "    <img src=\"https://raw.githubusercontent.com/jupyter/design/master/logos/Badges/nbviewer_badge.svg\" alt=\"Open in nbbviewer\" title=\"This will be active in Solution Notebook\">\n",
    "</a><br>\n",
    "\n",
    "<a href=\"\"><img align=\"center\" width=\"80\" height=\"80\" src=\"https://i.ibb.co/Vqpq8gQ/Git-Hub-logo.png\" alt=\"Open in Colab\" title=\"This will be active in Solution Notebook\"></a>\n",
    "\n",
    "___\n",
    "\n",
    "<a href=\"https://clarusway.com/\"><img align=\"center\" src=\"https://i.ibb.co/Rpz9L36/clarusway-logo-black.png\" width=\"450\" height=\"200\" alt=\"CLRSWY_LOGO\" title=\"Open and Execute in Google Colaboratory\"></a><br/>\n",
    "\n",
    "<p style=\"background-color:#E51A59; font-family:newtimeroman; color:#FDFEFE; font-size:130%; text-align:center; border-radius:10px 10px;\">WAY TO REINVENT YOURSELF</p>\n",
    "\n",
    "<p style=\"text-align: center;\"><img src=\"https://i.ibb.co/99DQ3TY/DS-Courses.png\" class=\"img-fluid\" \n",
    "alt=\"CLRSWY\"></p>\n",
    "\n",
    "## <p style=\"background-color:#FDFEFE; font-family:newtimeroman; color:#060108; font-size:200%; text-align:center; border-radius:10px 10px;\">Data Analysis with Python</p>\n",
    "\n",
    "![Image_Assignment](https://i.ibb.co/cY9HhF7/bnote-assignment.gif)\n",
    "\n",
    "## <p style=\"background-color:#FDFEFE; font-family:newtimeroman; color:#4d77cf; font-size:200%; text-align:center; border-radius:10px 10px;\">Assignment 02 (Pandas)</p>"
   ]
  },
  {
   "cell_type": "markdown",
   "metadata": {},
   "source": [
    "<a id=\"toc\"></a>\n",
    "\n",
    "## <p style=\"background-color:#9d4f8c; font-family:newtimeroman; color:#FFF9ED; font-size:150%; text-align:center; border-radius:10px 10px;\">CONTENT</p>\n",
    "\n",
    "\n",
    "* [CONTEXT](#0)\n",
    "* [ABOUT THE DATASET & ATRIBUTES](#00)\n",
    "* [INSTRUCTIONS (Tasks in the Assignment)](#000)\n",
    "* [IMPORTING LIBRARIES NEEDED IN THIS NOTEBOOK](#1)\n",
    "* [Task 01. Checking the head of the DataFrame](#2)\n",
    "* [Task 02. How many rows and columns are there?](#3)\n",
    "* [Task 03. What is the average Purchase Price?](#4)\n",
    "* [Task 04. What were the highest and lowest purchase prices?](#5) \n",
    "* [Task 05. Listing the country names and number of records belongs to each country](#6)\n",
    "* [Task 06. How many records are as Country United Kingdom?](#7)\n",
    "* [Task 07. Creating a column named Total which shows the total amount of spend using UnitPrice and Quantity](#8)\n",
    "* [Task 08. Showing total spending amount according to the Countries](#9)\n",
    "* [Task 09. Which Country spend least?](#10)\n",
    "* [Task 10. Calculating average of spending according to country with apply function](#11) \n",
    "* [Task 11. Calculating average, mean, max of spending according to country with agg function](#12)\n",
    "* [Task 12. What is the max Total spending in whole dataset and show the records of that spending?](#13)\n",
    "* [Task 13. How many people who live in Spain spend more than average Total?](#14)\n",
    "* [Task 14. Converting datatype of InvoiceDate to datetime and assign it to new column name InvoiceDate2](#15)\n",
    "* [Task 15. Taking only date values (year-month-day) from InvoiceDate2 and assign it to a new column named \"date\"](#16)\n",
    "* [Task 16. Dropping InvoiceDate2 and InvoiceDate columns permanently](#17)\n",
    "* [Task 17. Removing A, B, G and E characters at the first 5 rows of \"StockCode\" in ecom dataframe with a string method](#18) \n",
    "* [Task 18. Taking only Total and date columns with loc and craete a new df named ecom2](#19)\n",
    "* [Task 19. Taking only InvoiceNo and CustomerID columns with iloc and craete a new df named ecom3](#20)\n",
    "* [Task 20. Combining ecom2 and ecom3 with concat() method](#21)\n",
    "* [Task 21. Combining the common (intersected) values of ecom2 and ecom3 with merge() method](#22)\n",
    "* [Task 22. Combining ecom2 and ecom3 with join() method](#23)\n",
    "* [THE END OF THE ASSIGNMENT 02](#24)"
   ]
  },
  {
   "cell_type": "markdown",
   "metadata": {},
   "source": [
    "<a id=\"toc\"></a>\n",
    "\n",
    "## <p style=\"background-color:#9d4f8c; font-family:newtimeroman; color:#FFF9ED; font-size:150%; text-align:center; border-radius:10px 10px;\">CONTEXT</p>\n",
    "\n",
    "<a id=\"0\"></a>\n",
    "<a href=\"#toc\" class=\"btn btn-primary btn-sm\" role=\"button\" aria-pressed=\"true\" \n",
    "style=\"color:blue; background-color:#dfa8e4\" data-toggle=\"popover\">Content</a>\n",
    "\n",
    "E-Commerce is currently one of the fastest and dynamically evolving industries in the world. Its popularity has been growing rapidly with the ease of digital transactions and quick door-to-door deliveries. A major source of big tech companies revenues comes from the interaction of their underlying proprietary algorithms that are heavily powered by data science, so it’s fundamental to understand the methods applied to maintain and grow the number of clients.\n",
    "\n",
    "\"This is a transnational data set which contains all the transactions occurring between 01/12/2010 and 09/12/2011 for a UK-based and registered non-store online retail.The company mainly sells unique all-occasion gifts. Many customers of the company are wholesalers.\""
   ]
  },
  {
   "cell_type": "markdown",
   "metadata": {},
   "source": [
    "<a id=\"toc\"></a>\n",
    "\n",
    "## <p style=\"background-color:#9d4f8c; font-family:newtimeroman; color:#FFF9ED; font-size:150%; text-align:center; border-radius:10px 10px;\">ABOUT THE DATASET & ATRIBUTES</p>\n",
    "\n",
    "<a id=\"00\"></a>\n",
    "<a href=\"#toc\" class=\"btn btn-primary btn-sm\" role=\"button\" aria-pressed=\"true\" \n",
    "style=\"color:blue; background-color:#dfa8e4\" data-toggle=\"popover\">Content</a>\n",
    "\n",
    "Typically e-commerce datasets are proprietary and consequently hard to find among publicly available data. However, The [UCI Machine Learning Repository](http://archive.ics.uci.edu/ml/index.php) has made this dataset containing actual transactions from 2010 and 2011. The dataset is maintained on their site, where it can be found by the title \"Online Retail\".\n",
    "\n",
    "**Attribute Information:**\n",
    "\n",
    "**``InvoiceNo:``** Invoice number. Nominal, a 6-digit integral number uniquely assigned to each transaction. If this code starts with letter 'c', it indicates a cancellation.<br>\n",
    "**``StockCode:``** Product (item) code. Nominal, a 5-digit integral number uniquely assigned to each distinct product.<br>\n",
    "**``Description:``** Product (item) name. Nominal.<br>\n",
    "**``Quantity:``** The quantities of each product (item) per transaction. Numeric.<br>\n",
    "**``InvoiceDate:``** Invice Date and time. Numeric, the day and time when each transaction was generated.<br>\n",
    "**``UnitPrice:``** Unit price. Numeric, Product price per unit in sterling.<br>\n",
    "**``CustomerID:``** Customer number. Nominal, a 5-digit integral number uniquely assigned to each customer.<br>\n",
    "**``Country:``** Country name. Nominal, the name of the country where each customer resides.<br>"
   ]
  },
  {
   "cell_type": "markdown",
   "metadata": {},
   "source": [
    "## <p style=\"background-color:#9d4f8c; font-family:newtimeroman; color:#FFF9ED; font-size:150%; text-align:center; border-radius:10px 10px;\">INSTRUCTIONS (Tasks in the Assignment)</p>\n",
    "\n",
    "<a id=\"000\"></a>\n",
    "<a href=\"#toc\" class=\"btn btn-primary btn-sm\" role=\"button\" aria-pressed=\"true\" \n",
    "style=\"color:blue; background-color:#dfa8e4\" data-toggle=\"popover\">Content</a>\n",
    "\n",
    "**In this assignment you're required to handle with the following tasks:** \n",
    "\n",
    "- **Task 01.** Checking the head of the DataFrame.<br>\n",
    "- **Task 02.** How many rows and columns are there?<br>\n",
    "- **Task 03.** What is the average of Product sold and the average price of Product per unit?<br>\n",
    "- **Task 04.** What were the highest and lowest purchase prices?<br>\n",
    "- **Task 05.** Listing the country names and number of their records belongs to each country.<br>\n",
    "- **Task 06.** How many records are as Country United Kingdom?<br>\n",
    "- **Task 07.** Creating a column named \"Total\" which shows the total amount of spend using UnitPrice and Quantity.<br>\n",
    "- **Task 08.** Showing total spending amount according to the Countries and their percentages.<br>\n",
    "- **Task 09.** Which Country spend least?<br>\n",
    "- **Task 10.** Calculating average of spending according to country with apply function  and create a new feature named \"Average_Spend\".<br>\n",
    "- **Task 11.** Calculating average, min, max of spending according to country with agg function and create new features named \"Max_Spend\" and \"Min_Spend\".<br>\n",
    "- **Task 12.** What is the max Total spending in whole dataset and show all records of that spending?<br>\n",
    "- **Task 13.** How many people who live in Spain spend more than average Total?<br>\n",
    "- **Task 14.** Converting datatype of InvoiceDate to datetime and assign it to new column name InvoiceDate2.<br>\n",
    "- **Task 15.** Taking only date values (year-month-day) from InvoiceDate2 and assign it to a new column named \"date\".<br>\n",
    "- **Task 16.** Dropping InvoiceDate2 and InvoiceDate columns permanently.<br>\n",
    "- **Task 17.** Removing A, B, G and E characters at the first 5 rows of \"StockCode\" in ecom dataframe with a string method.<br>\n",
    "- **Task 18.** Taking only Total and date columns with loc and craete a new df named ecom2.<br>\n",
    "- **Task 19.** Taking only InvoiceNo and CustomerID columns with iloc and craete a new df named ecom3.<br>\n",
    "- **Task 20.** Combining ecom2 and ecom3 with concat() method.<br>\n",
    "- **Task 21.** Combining the common (intersected) values of ecom2 and ecom3 with merge() method.<br>\n",
    "- **Task 22.** Combining ecom2 and ecom3 with join() method.<br>"
   ]
  },
  {
   "cell_type": "markdown",
   "metadata": {},
   "source": [
    "## <p style=\"background-color:#9d4f8c; font-family:newtimeroman; color:#FFF9ED; font-size:150%; text-align:center; border-radius:10px 10px;\">IMPORTING LIBRARIES NEEDED IN THIS STUDY</p>\n",
    "\n",
    "<a id=\"1\"></a>\n",
    "<a href=\"#toc\" class=\"btn btn-primary btn-sm\" role=\"button\" aria-pressed=\"true\" \n",
    "style=\"color:blue; background-color:#dfa8e4\" data-toggle=\"popover\">Content</a>\n",
    "\n",
    "Once you've installed NumPy and Pandas you can import them as a library. Then read the dataset and assig it as **``\"ecom\"``**:"
   ]
  },
  {
   "cell_type": "code",
   "execution_count": 2,
   "metadata": {},
   "outputs": [
    {
     "ename": "FileNotFoundError",
     "evalue": "[Errno 2] No such file or directory: 'data.csv'",
     "output_type": "error",
     "traceback": [
      "\u001b[1;31m---------------------------------------------------------------------------\u001b[0m",
      "\u001b[1;31mFileNotFoundError\u001b[0m                         Traceback (most recent call last)",
      "Cell \u001b[1;32mIn[2], line 7\u001b[0m\n\u001b[0;32m      5\u001b[0m \u001b[38;5;28;01mimport\u001b[39;00m \u001b[38;5;21;01mnumpy\u001b[39;00m \u001b[38;5;28;01mas\u001b[39;00m \u001b[38;5;21;01mnp\u001b[39;00m\n\u001b[0;32m      6\u001b[0m \u001b[38;5;28;01mimport\u001b[39;00m \u001b[38;5;21;01mpandas\u001b[39;00m \u001b[38;5;28;01mas\u001b[39;00m \u001b[38;5;21;01mpd\u001b[39;00m \n\u001b[1;32m----> 7\u001b[0m \u001b[43mpd\u001b[49m\u001b[38;5;241;43m.\u001b[39;49m\u001b[43mread_csv\u001b[49m\u001b[43m(\u001b[49m\u001b[38;5;124;43m\"\u001b[39;49m\u001b[38;5;124;43mdata.csv\u001b[39;49m\u001b[38;5;124;43m\"\u001b[39;49m\u001b[43m,\u001b[49m\u001b[43mencoding\u001b[49m\u001b[38;5;241;43m=\u001b[39;49m\u001b[38;5;124;43m\"\u001b[39;49m\u001b[38;5;124;43municode_escape\u001b[39;49m\u001b[38;5;124;43m\"\u001b[39;49m\u001b[43m)\u001b[49m\n",
      "File \u001b[1;32m~\\AppData\\Local\\Packages\\PythonSoftwareFoundation.Python.3.12_qbz5n2kfra8p0\\LocalCache\\local-packages\\Python312\\site-packages\\pandas\\io\\parsers\\readers.py:1024\u001b[0m, in \u001b[0;36mread_csv\u001b[1;34m(filepath_or_buffer, sep, delimiter, header, names, index_col, usecols, dtype, engine, converters, true_values, false_values, skipinitialspace, skiprows, skipfooter, nrows, na_values, keep_default_na, na_filter, verbose, skip_blank_lines, parse_dates, infer_datetime_format, keep_date_col, date_parser, date_format, dayfirst, cache_dates, iterator, chunksize, compression, thousands, decimal, lineterminator, quotechar, quoting, doublequote, escapechar, comment, encoding, encoding_errors, dialect, on_bad_lines, delim_whitespace, low_memory, memory_map, float_precision, storage_options, dtype_backend)\u001b[0m\n\u001b[0;32m   1011\u001b[0m kwds_defaults \u001b[38;5;241m=\u001b[39m _refine_defaults_read(\n\u001b[0;32m   1012\u001b[0m     dialect,\n\u001b[0;32m   1013\u001b[0m     delimiter,\n\u001b[1;32m   (...)\u001b[0m\n\u001b[0;32m   1020\u001b[0m     dtype_backend\u001b[38;5;241m=\u001b[39mdtype_backend,\n\u001b[0;32m   1021\u001b[0m )\n\u001b[0;32m   1022\u001b[0m kwds\u001b[38;5;241m.\u001b[39mupdate(kwds_defaults)\n\u001b[1;32m-> 1024\u001b[0m \u001b[38;5;28;01mreturn\u001b[39;00m \u001b[43m_read\u001b[49m\u001b[43m(\u001b[49m\u001b[43mfilepath_or_buffer\u001b[49m\u001b[43m,\u001b[49m\u001b[43m \u001b[49m\u001b[43mkwds\u001b[49m\u001b[43m)\u001b[49m\n",
      "File \u001b[1;32m~\\AppData\\Local\\Packages\\PythonSoftwareFoundation.Python.3.12_qbz5n2kfra8p0\\LocalCache\\local-packages\\Python312\\site-packages\\pandas\\io\\parsers\\readers.py:618\u001b[0m, in \u001b[0;36m_read\u001b[1;34m(filepath_or_buffer, kwds)\u001b[0m\n\u001b[0;32m    615\u001b[0m _validate_names(kwds\u001b[38;5;241m.\u001b[39mget(\u001b[38;5;124m\"\u001b[39m\u001b[38;5;124mnames\u001b[39m\u001b[38;5;124m\"\u001b[39m, \u001b[38;5;28;01mNone\u001b[39;00m))\n\u001b[0;32m    617\u001b[0m \u001b[38;5;66;03m# Create the parser.\u001b[39;00m\n\u001b[1;32m--> 618\u001b[0m parser \u001b[38;5;241m=\u001b[39m \u001b[43mTextFileReader\u001b[49m\u001b[43m(\u001b[49m\u001b[43mfilepath_or_buffer\u001b[49m\u001b[43m,\u001b[49m\u001b[43m \u001b[49m\u001b[38;5;241;43m*\u001b[39;49m\u001b[38;5;241;43m*\u001b[39;49m\u001b[43mkwds\u001b[49m\u001b[43m)\u001b[49m\n\u001b[0;32m    620\u001b[0m \u001b[38;5;28;01mif\u001b[39;00m chunksize \u001b[38;5;129;01mor\u001b[39;00m iterator:\n\u001b[0;32m    621\u001b[0m     \u001b[38;5;28;01mreturn\u001b[39;00m parser\n",
      "File \u001b[1;32m~\\AppData\\Local\\Packages\\PythonSoftwareFoundation.Python.3.12_qbz5n2kfra8p0\\LocalCache\\local-packages\\Python312\\site-packages\\pandas\\io\\parsers\\readers.py:1618\u001b[0m, in \u001b[0;36mTextFileReader.__init__\u001b[1;34m(self, f, engine, **kwds)\u001b[0m\n\u001b[0;32m   1615\u001b[0m     \u001b[38;5;28mself\u001b[39m\u001b[38;5;241m.\u001b[39moptions[\u001b[38;5;124m\"\u001b[39m\u001b[38;5;124mhas_index_names\u001b[39m\u001b[38;5;124m\"\u001b[39m] \u001b[38;5;241m=\u001b[39m kwds[\u001b[38;5;124m\"\u001b[39m\u001b[38;5;124mhas_index_names\u001b[39m\u001b[38;5;124m\"\u001b[39m]\n\u001b[0;32m   1617\u001b[0m \u001b[38;5;28mself\u001b[39m\u001b[38;5;241m.\u001b[39mhandles: IOHandles \u001b[38;5;241m|\u001b[39m \u001b[38;5;28;01mNone\u001b[39;00m \u001b[38;5;241m=\u001b[39m \u001b[38;5;28;01mNone\u001b[39;00m\n\u001b[1;32m-> 1618\u001b[0m \u001b[38;5;28mself\u001b[39m\u001b[38;5;241m.\u001b[39m_engine \u001b[38;5;241m=\u001b[39m \u001b[38;5;28;43mself\u001b[39;49m\u001b[38;5;241;43m.\u001b[39;49m\u001b[43m_make_engine\u001b[49m\u001b[43m(\u001b[49m\u001b[43mf\u001b[49m\u001b[43m,\u001b[49m\u001b[43m \u001b[49m\u001b[38;5;28;43mself\u001b[39;49m\u001b[38;5;241;43m.\u001b[39;49m\u001b[43mengine\u001b[49m\u001b[43m)\u001b[49m\n",
      "File \u001b[1;32m~\\AppData\\Local\\Packages\\PythonSoftwareFoundation.Python.3.12_qbz5n2kfra8p0\\LocalCache\\local-packages\\Python312\\site-packages\\pandas\\io\\parsers\\readers.py:1878\u001b[0m, in \u001b[0;36mTextFileReader._make_engine\u001b[1;34m(self, f, engine)\u001b[0m\n\u001b[0;32m   1876\u001b[0m     \u001b[38;5;28;01mif\u001b[39;00m \u001b[38;5;124m\"\u001b[39m\u001b[38;5;124mb\u001b[39m\u001b[38;5;124m\"\u001b[39m \u001b[38;5;129;01mnot\u001b[39;00m \u001b[38;5;129;01min\u001b[39;00m mode:\n\u001b[0;32m   1877\u001b[0m         mode \u001b[38;5;241m+\u001b[39m\u001b[38;5;241m=\u001b[39m \u001b[38;5;124m\"\u001b[39m\u001b[38;5;124mb\u001b[39m\u001b[38;5;124m\"\u001b[39m\n\u001b[1;32m-> 1878\u001b[0m \u001b[38;5;28mself\u001b[39m\u001b[38;5;241m.\u001b[39mhandles \u001b[38;5;241m=\u001b[39m \u001b[43mget_handle\u001b[49m\u001b[43m(\u001b[49m\n\u001b[0;32m   1879\u001b[0m \u001b[43m    \u001b[49m\u001b[43mf\u001b[49m\u001b[43m,\u001b[49m\n\u001b[0;32m   1880\u001b[0m \u001b[43m    \u001b[49m\u001b[43mmode\u001b[49m\u001b[43m,\u001b[49m\n\u001b[0;32m   1881\u001b[0m \u001b[43m    \u001b[49m\u001b[43mencoding\u001b[49m\u001b[38;5;241;43m=\u001b[39;49m\u001b[38;5;28;43mself\u001b[39;49m\u001b[38;5;241;43m.\u001b[39;49m\u001b[43moptions\u001b[49m\u001b[38;5;241;43m.\u001b[39;49m\u001b[43mget\u001b[49m\u001b[43m(\u001b[49m\u001b[38;5;124;43m\"\u001b[39;49m\u001b[38;5;124;43mencoding\u001b[39;49m\u001b[38;5;124;43m\"\u001b[39;49m\u001b[43m,\u001b[49m\u001b[43m \u001b[49m\u001b[38;5;28;43;01mNone\u001b[39;49;00m\u001b[43m)\u001b[49m\u001b[43m,\u001b[49m\n\u001b[0;32m   1882\u001b[0m \u001b[43m    \u001b[49m\u001b[43mcompression\u001b[49m\u001b[38;5;241;43m=\u001b[39;49m\u001b[38;5;28;43mself\u001b[39;49m\u001b[38;5;241;43m.\u001b[39;49m\u001b[43moptions\u001b[49m\u001b[38;5;241;43m.\u001b[39;49m\u001b[43mget\u001b[49m\u001b[43m(\u001b[49m\u001b[38;5;124;43m\"\u001b[39;49m\u001b[38;5;124;43mcompression\u001b[39;49m\u001b[38;5;124;43m\"\u001b[39;49m\u001b[43m,\u001b[49m\u001b[43m \u001b[49m\u001b[38;5;28;43;01mNone\u001b[39;49;00m\u001b[43m)\u001b[49m\u001b[43m,\u001b[49m\n\u001b[0;32m   1883\u001b[0m \u001b[43m    \u001b[49m\u001b[43mmemory_map\u001b[49m\u001b[38;5;241;43m=\u001b[39;49m\u001b[38;5;28;43mself\u001b[39;49m\u001b[38;5;241;43m.\u001b[39;49m\u001b[43moptions\u001b[49m\u001b[38;5;241;43m.\u001b[39;49m\u001b[43mget\u001b[49m\u001b[43m(\u001b[49m\u001b[38;5;124;43m\"\u001b[39;49m\u001b[38;5;124;43mmemory_map\u001b[39;49m\u001b[38;5;124;43m\"\u001b[39;49m\u001b[43m,\u001b[49m\u001b[43m \u001b[49m\u001b[38;5;28;43;01mFalse\u001b[39;49;00m\u001b[43m)\u001b[49m\u001b[43m,\u001b[49m\n\u001b[0;32m   1884\u001b[0m \u001b[43m    \u001b[49m\u001b[43mis_text\u001b[49m\u001b[38;5;241;43m=\u001b[39;49m\u001b[43mis_text\u001b[49m\u001b[43m,\u001b[49m\n\u001b[0;32m   1885\u001b[0m \u001b[43m    \u001b[49m\u001b[43merrors\u001b[49m\u001b[38;5;241;43m=\u001b[39;49m\u001b[38;5;28;43mself\u001b[39;49m\u001b[38;5;241;43m.\u001b[39;49m\u001b[43moptions\u001b[49m\u001b[38;5;241;43m.\u001b[39;49m\u001b[43mget\u001b[49m\u001b[43m(\u001b[49m\u001b[38;5;124;43m\"\u001b[39;49m\u001b[38;5;124;43mencoding_errors\u001b[39;49m\u001b[38;5;124;43m\"\u001b[39;49m\u001b[43m,\u001b[49m\u001b[43m \u001b[49m\u001b[38;5;124;43m\"\u001b[39;49m\u001b[38;5;124;43mstrict\u001b[39;49m\u001b[38;5;124;43m\"\u001b[39;49m\u001b[43m)\u001b[49m\u001b[43m,\u001b[49m\n\u001b[0;32m   1886\u001b[0m \u001b[43m    \u001b[49m\u001b[43mstorage_options\u001b[49m\u001b[38;5;241;43m=\u001b[39;49m\u001b[38;5;28;43mself\u001b[39;49m\u001b[38;5;241;43m.\u001b[39;49m\u001b[43moptions\u001b[49m\u001b[38;5;241;43m.\u001b[39;49m\u001b[43mget\u001b[49m\u001b[43m(\u001b[49m\u001b[38;5;124;43m\"\u001b[39;49m\u001b[38;5;124;43mstorage_options\u001b[39;49m\u001b[38;5;124;43m\"\u001b[39;49m\u001b[43m,\u001b[49m\u001b[43m \u001b[49m\u001b[38;5;28;43;01mNone\u001b[39;49;00m\u001b[43m)\u001b[49m\u001b[43m,\u001b[49m\n\u001b[0;32m   1887\u001b[0m \u001b[43m\u001b[49m\u001b[43m)\u001b[49m\n\u001b[0;32m   1888\u001b[0m \u001b[38;5;28;01massert\u001b[39;00m \u001b[38;5;28mself\u001b[39m\u001b[38;5;241m.\u001b[39mhandles \u001b[38;5;129;01mis\u001b[39;00m \u001b[38;5;129;01mnot\u001b[39;00m \u001b[38;5;28;01mNone\u001b[39;00m\n\u001b[0;32m   1889\u001b[0m f \u001b[38;5;241m=\u001b[39m \u001b[38;5;28mself\u001b[39m\u001b[38;5;241m.\u001b[39mhandles\u001b[38;5;241m.\u001b[39mhandle\n",
      "File \u001b[1;32m~\\AppData\\Local\\Packages\\PythonSoftwareFoundation.Python.3.12_qbz5n2kfra8p0\\LocalCache\\local-packages\\Python312\\site-packages\\pandas\\io\\common.py:873\u001b[0m, in \u001b[0;36mget_handle\u001b[1;34m(path_or_buf, mode, encoding, compression, memory_map, is_text, errors, storage_options)\u001b[0m\n\u001b[0;32m    868\u001b[0m \u001b[38;5;28;01melif\u001b[39;00m \u001b[38;5;28misinstance\u001b[39m(handle, \u001b[38;5;28mstr\u001b[39m):\n\u001b[0;32m    869\u001b[0m     \u001b[38;5;66;03m# Check whether the filename is to be opened in binary mode.\u001b[39;00m\n\u001b[0;32m    870\u001b[0m     \u001b[38;5;66;03m# Binary mode does not support 'encoding' and 'newline'.\u001b[39;00m\n\u001b[0;32m    871\u001b[0m     \u001b[38;5;28;01mif\u001b[39;00m ioargs\u001b[38;5;241m.\u001b[39mencoding \u001b[38;5;129;01mand\u001b[39;00m \u001b[38;5;124m\"\u001b[39m\u001b[38;5;124mb\u001b[39m\u001b[38;5;124m\"\u001b[39m \u001b[38;5;129;01mnot\u001b[39;00m \u001b[38;5;129;01min\u001b[39;00m ioargs\u001b[38;5;241m.\u001b[39mmode:\n\u001b[0;32m    872\u001b[0m         \u001b[38;5;66;03m# Encoding\u001b[39;00m\n\u001b[1;32m--> 873\u001b[0m         handle \u001b[38;5;241m=\u001b[39m \u001b[38;5;28;43mopen\u001b[39;49m\u001b[43m(\u001b[49m\n\u001b[0;32m    874\u001b[0m \u001b[43m            \u001b[49m\u001b[43mhandle\u001b[49m\u001b[43m,\u001b[49m\n\u001b[0;32m    875\u001b[0m \u001b[43m            \u001b[49m\u001b[43mioargs\u001b[49m\u001b[38;5;241;43m.\u001b[39;49m\u001b[43mmode\u001b[49m\u001b[43m,\u001b[49m\n\u001b[0;32m    876\u001b[0m \u001b[43m            \u001b[49m\u001b[43mencoding\u001b[49m\u001b[38;5;241;43m=\u001b[39;49m\u001b[43mioargs\u001b[49m\u001b[38;5;241;43m.\u001b[39;49m\u001b[43mencoding\u001b[49m\u001b[43m,\u001b[49m\n\u001b[0;32m    877\u001b[0m \u001b[43m            \u001b[49m\u001b[43merrors\u001b[49m\u001b[38;5;241;43m=\u001b[39;49m\u001b[43merrors\u001b[49m\u001b[43m,\u001b[49m\n\u001b[0;32m    878\u001b[0m \u001b[43m            \u001b[49m\u001b[43mnewline\u001b[49m\u001b[38;5;241;43m=\u001b[39;49m\u001b[38;5;124;43m\"\u001b[39;49m\u001b[38;5;124;43m\"\u001b[39;49m\u001b[43m,\u001b[49m\n\u001b[0;32m    879\u001b[0m \u001b[43m        \u001b[49m\u001b[43m)\u001b[49m\n\u001b[0;32m    880\u001b[0m     \u001b[38;5;28;01melse\u001b[39;00m:\n\u001b[0;32m    881\u001b[0m         \u001b[38;5;66;03m# Binary mode\u001b[39;00m\n\u001b[0;32m    882\u001b[0m         handle \u001b[38;5;241m=\u001b[39m \u001b[38;5;28mopen\u001b[39m(handle, ioargs\u001b[38;5;241m.\u001b[39mmode)\n",
      "\u001b[1;31mFileNotFoundError\u001b[0m: [Errno 2] No such file or directory: 'data.csv'"
     ]
    }
   ],
   "source": [
    "# Import the related library to this task\n",
    "\n",
    "# YOUR CODE IS HERE \n",
    "\n",
    "import numpy as np\n",
    "import pandas as pd \n",
    "pd.read_csv(\"data.csv\",encoding=\"unicode_escape\")"
   ]
  },
  {
   "cell_type": "code",
   "execution_count": null,
   "metadata": {},
   "outputs": [],
   "source": [
    "# After reading the dataset, assign it named \"ecom\"\n",
    "\n",
    "# YOUR CODE IS HERE \n",
    "\n",
    "ecom=pd.read_csv(\"dara.csv\",encoding=\"unicode_escape\")"
   ]
  },
  {
   "cell_type": "markdown",
   "metadata": {},
   "source": [
    "### 🔥 SPECIAL NOTE! 🔥\t\n",
    "\n",
    "**If \"MemoryError\" occurs, take only the first 100 rows or some part of DataFrame**\n",
    "\n",
    "**[Not reading all rows while importing csv into pandas dataframe](https://stackoverflow.com/questions/33161769/not-reading-all-rows-while-importing-csv-into-pandas-dataframe)**"
   ]
  },
  {
   "cell_type": "markdown",
   "metadata": {
    "id": "2UTjwMTo-dbX"
   },
   "source": [
    "### <p style=\"background-color:#9d4f8c; font-family:newtimeroman; color:#FFF9ED; font-size:150%; text-align:center; border-radius:10px 10px;\">Task 01: Check the Head of the DataFrame</p>\n",
    "\n",
    "<a id=\"2\"></a>\n",
    "<a href=\"#toc\" class=\"btn btn-primary btn-sm\" role=\"button\" aria-pressed=\"true\" \n",
    "style=\"color:blue; background-color:#dfa8e4\" data-toggle=\"popover\">Content</a>"
   ]
  },
  {
   "cell_type": "code",
   "execution_count": null,
   "metadata": {},
   "outputs": [],
   "source": [
    "# YOUR CODE IS HERE \n",
    "\n",
    "ecom.head(10)"
   ]
  },
  {
   "cell_type": "markdown",
   "metadata": {},
   "source": [
    "Desired Output:\n",
    "\n",
    "![image.png](https://i.ibb.co/LdKJHb6/assignment1a.png)"
   ]
  },
  {
   "cell_type": "markdown",
   "metadata": {
    "id": "Mq74r0id-dbZ"
   },
   "source": [
    "### <p style=\"background-color:#9d4f8c; font-family:newtimeroman; color:#FFF9ED; font-size:150%; text-align:center; border-radius:10px 10px;\">Task 02: How many rows and columns are there?</p>\n",
    "\n",
    "<a id=\"3\"></a>\n",
    "<a href=\"#toc\" class=\"btn btn-primary btn-sm\" role=\"button\" aria-pressed=\"true\" \n",
    "style=\"color:blue; background-color:#dfa8e4\" data-toggle=\"popover\">Content</a>"
   ]
  },
  {
   "cell_type": "code",
   "execution_count": null,
   "metadata": {},
   "outputs": [],
   "source": [
    "# YOUR CODE IS HERE \n",
    "\n",
    "ecom.info()"
   ]
  },
  {
   "cell_type": "raw",
   "metadata": {},
   "source": [
    "Desired Output:\n",
    "\n",
    "<class 'pandas.core.frame.DataFrame'>\n",
    "RangeIndex: 541909 entries, 0 to 541908\n",
    "Data columns (total 8 columns):\n",
    " #   Column       Non-Null Count   Dtype  \n",
    "---  ------       --------------   -----  \n",
    " 0   InvoiceNo    541909 non-null  object \n",
    " 1   StockCode    541909 non-null  object \n",
    " 2   Description  540455 non-null  object \n",
    " 3   Quantity     541909 non-null  int64  \n",
    " 4   InvoiceDate  541909 non-null  object \n",
    " 5   UnitPrice    541909 non-null  float64\n",
    " 6   CustomerID   406829 non-null  float64\n",
    " 7   Country      541909 non-null  object \n",
    "dtypes: float64(2), int64(1), object(5)\n",
    "memory usage: 33.1+ MB"
   ]
  },
  {
   "cell_type": "code",
   "execution_count": null,
   "metadata": {},
   "outputs": [],
   "source": [
    "# YOUR CODE IS HERE \n",
    "\n",
    "ecom.shape "
   ]
  },
  {
   "cell_type": "raw",
   "metadata": {},
   "source": [
    "Desired Output:\n",
    "\n",
    "(541909, 8)"
   ]
  },
  {
   "cell_type": "markdown",
   "metadata": {
    "id": "UbPX_fKO-dbb"
   },
   "source": [
    "### <p style=\"background-color:#9d4f8c; font-family:newtimeroman; color:#FFF9ED; font-size:150%; text-align:center; border-radius:10px 10px;\">Task 03: What is the average of Product sold and the average price of Product per unit?</p>\n",
    "\n",
    "<a id=\"4\"></a>\n",
    "<a href=\"#toc\" class=\"btn btn-primary btn-sm\" role=\"button\" aria-pressed=\"true\" \n",
    "style=\"color:blue; background-color:#dfa8e4\" data-toggle=\"popover\">Content</a>"
   ]
  },
  {
   "cell_type": "code",
   "execution_count": null,
   "metadata": {},
   "outputs": [],
   "source": [
    "# YOUR CODE IS HERE \n",
    "\n",
    "ecom[\"UnitPrice\"].mean()"
   ]
  },
  {
   "cell_type": "raw",
   "metadata": {},
   "source": [
    "Desired Output:\n",
    "\n",
    "4.611113626083471"
   ]
  },
  {
   "cell_type": "code",
   "execution_count": null,
   "metadata": {},
   "outputs": [],
   "source": [
    "# YOUR CODE IS HERE \n",
    "ecom[\"Quantity\"].mean()\n"
   ]
  },
  {
   "cell_type": "raw",
   "metadata": {},
   "source": [
    "Desired Output:\n",
    "\n",
    "9.55224954743324"
   ]
  },
  {
   "cell_type": "code",
   "execution_count": null,
   "metadata": {},
   "outputs": [],
   "source": [
    "# YOUR CODE IS HERE \n",
    "\n",
    "pd.Series([ecom[\"UnitPrice\"].mean(),ecom[\"Quantity\"].mean()]index=[\"UnitPrice\",\"Quantity\"])"
   ]
  },
  {
   "cell_type": "raw",
   "metadata": {},
   "source": [
    "Desired Output:\n",
    "\n",
    "UnitPrice    4.611114\n",
    "Quantity     9.552250\n",
    "dtype: float64"
   ]
  },
  {
   "cell_type": "markdown",
   "metadata": {
    "id": "BSrwft-V-dbd"
   },
   "source": [
    "### <p style=\"background-color:#9d4f8c; font-family:newtimeroman; color:#FFF9ED; font-size:150%; text-align:center; border-radius:10px 10px;\">Task 04: What are the highest and lowest purchase prices?</p>\n",
    "\n",
    "<a id=\"5\"></a>\n",
    "<a href=\"#toc\" class=\"btn btn-primary btn-sm\" role=\"button\" aria-pressed=\"true\" \n",
    "style=\"color:blue; background-color:#dfa8e4\" data-toggle=\"popover\">Content</a>"
   ]
  },
  {
   "cell_type": "code",
   "execution_count": null,
   "metadata": {},
   "outputs": [],
   "source": [
    "# YOUR CODE IS HERE \n",
    "\n",
    "ecom[\"UnitPrice\"].max()"
   ]
  },
  {
   "cell_type": "raw",
   "metadata": {},
   "source": [
    "Desired Output:\n",
    "\n",
    "38970.0"
   ]
  },
  {
   "cell_type": "code",
   "execution_count": null,
   "metadata": {},
   "outputs": [],
   "source": [
    "# YOUR CODE IS HERE \n",
    "\n",
    "ecom[\"UnitPrice\"].min()"
   ]
  },
  {
   "cell_type": "raw",
   "metadata": {},
   "source": [
    "Desired Output:\n",
    "\n",
    "-11062.06"
   ]
  },
  {
   "cell_type": "markdown",
   "metadata": {
    "id": "luwMBBNg-dbf"
   },
   "source": [
    "### <p style=\"background-color:#9d4f8c; font-family:newtimeroman; color:#FFF9ED; font-size:150%; text-align:center; border-radius:10px 10px;\">Task 05: List the country names and number of their records belongs to each country</p>\n",
    "\n",
    "<a id=\"6\"></a>\n",
    "<a href=\"#toc\" class=\"btn btn-primary btn-sm\" role=\"button\" aria-pressed=\"true\" \n",
    "style=\"color:blue; background-color:#dfa8e4\" data-toggle=\"popover\">Content</a>"
   ]
  },
  {
   "cell_type": "code",
   "execution_count": null,
   "metadata": {},
   "outputs": [],
   "source": [
    "# YOUR CODE IS HERE \n",
    "\n",
    "ecom.groupby(\"Country\")[\"InvoiceNo\"].count().sort_values(ascending=False)"
   ]
  },
  {
   "cell_type": "raw",
   "metadata": {},
   "source": [
    "Desired Output:\n",
    "\n",
    "United Kingdom          495478\n",
    "Germany                   9495\n",
    "France                    8557\n",
    "EIRE                      8196\n",
    "Spain                     2533\n",
    "Netherlands               2371\n",
    "Belgium                   2069\n",
    "Switzerland               2002\n",
    "Portugal                  1519\n",
    "Australia                 1259\n",
    "Norway                    1086\n",
    "Italy                      803\n",
    "Channel Islands            758\n",
    "Finland                    695\n",
    "Cyprus                     622\n",
    "Sweden                     462\n",
    "Unspecified                446\n",
    "Austria                    401\n",
    "Denmark                    389\n",
    "Japan                      358\n",
    "Poland                     341\n",
    "Israel                     297\n",
    "USA                        291\n",
    "Hong Kong                  288\n",
    "Singapore                  229\n",
    "Iceland                    182\n",
    "Canada                     151\n",
    "Greece                     146\n",
    "Malta                      127\n",
    "United Arab Emirates        68\n",
    "European Community          61\n",
    "RSA                         58\n",
    "Lebanon                     45\n",
    "Lithuania                   35\n",
    "Brazil                      32\n",
    "Czech Republic              30\n",
    "Bahrain                     19\n",
    "Saudi Arabia                10\n",
    "Name: Country, dtype: int64"
   ]
  },
  {
   "cell_type": "markdown",
   "metadata": {
    "id": "bcbitkyn-dbg"
   },
   "source": [
    "### <p style=\"background-color:#9d4f8c; font-family:newtimeroman; color:#FFF9ED; font-size:150%; text-align:center; border-radius:10px 10px;\">Task 06: How many records are there in the United Kingdom?</p>\n",
    "\n",
    "<a id=\"7\"></a>\n",
    "<a href=\"#toc\" class=\"btn btn-primary btn-sm\" role=\"button\" aria-pressed=\"true\" \n",
    "style=\"color:blue; background-color:#dfa8e4\" data-toggle=\"popover\">Content</a>"
   ]
  },
  {
   "cell_type": "code",
   "execution_count": null,
   "metadata": {},
   "outputs": [],
   "source": [
    "# YOUR CODE IS HERE \n",
    "ecom[ecom[\"Country\"]==\"United Kingdom\"].count()\n"
   ]
  },
  {
   "cell_type": "raw",
   "metadata": {},
   "source": [
    "Desired Output:\n",
    "\n",
    "InvoiceNo      495478\n",
    "StockCode      495478\n",
    "Description    494024\n",
    "Quantity       495478\n",
    "InvoiceDate    495478\n",
    "UnitPrice      495478\n",
    "CustomerID     361878\n",
    "Country        495478\n",
    "dtype: int64"
   ]
  },
  {
   "cell_type": "markdown",
   "metadata": {
    "id": "aI-gF9uG-dbh"
   },
   "source": [
    "### <p style=\"background-color:#9d4f8c; font-family:newtimeroman; color:#FFF9ED; font-size:150%; text-align:center; border-radius:10px 10px;\">Task 07: Create a column named \"Total\" which shows the total amount of spend using UnitPrice and Quantity</p>\n",
    "\n",
    "<a id=\"8\"></a>\n",
    "<a href=\"#toc\" class=\"btn btn-primary btn-sm\" role=\"button\" aria-pressed=\"true\" \n",
    "style=\"color:blue; background-color:#dfa8e4\" data-toggle=\"popover\">Content</a>"
   ]
  },
  {
   "cell_type": "code",
   "execution_count": null,
   "metadata": {},
   "outputs": [],
   "source": [
    "# YOUR CODE IS HERE \n",
    "\n",
    "ecom['Total']=ecom['Quantity']*ecom['UnitPrice']\n",
    "ecom['Total']"
   ]
  },
  {
   "cell_type": "raw",
   "metadata": {},
   "source": [
    "Desired Output:\n",
    "\n",
    "0         15.30\n",
    "1         20.34\n",
    "2         22.00\n",
    "3         20.34\n",
    "4         20.34\n",
    "          ...  \n",
    "541904    10.20\n",
    "541905    12.60\n",
    "541906    16.60\n",
    "541907    16.60\n",
    "541908    14.85\n",
    "Name: Total, Length: 541909, dtype: float64"
   ]
  },
  {
   "cell_type": "code",
   "execution_count": null,
   "metadata": {},
   "outputs": [],
   "source": [
    "# YOUR CODE IS HERE \n",
    "ecom.head()\n"
   ]
  },
  {
   "cell_type": "markdown",
   "metadata": {},
   "source": [
    "Desired Output:\n",
    "\n",
    "![image.png](https://i.ibb.co/7y5d0sp/assignment2b.png)"
   ]
  },
  {
   "cell_type": "markdown",
   "metadata": {
    "id": "qkw2UutO-dbi"
   },
   "source": [
    "### <p style=\"background-color:#9d4f8c; font-family:newtimeroman; color:#FFF9ED; font-size:150%; text-align:center; border-radius:10px 10px;\">Task 08: Show total spending amount according to the Countries and their percentages.</p>\n",
    "\n",
    "<a id=\"9\"></a>\n",
    "<a href=\"#toc\" class=\"btn btn-primary btn-sm\" role=\"button\" aria-pressed=\"true\" \n",
    "style=\"color:blue; background-color:#dfa8e4\" data-toggle=\"popover\">Content</a>"
   ]
  },
  {
   "cell_type": "code",
   "execution_count": null,
   "metadata": {},
   "outputs": [],
   "source": [
    "# YOUR CODE IS HERE \n",
    "\n",
    "ecom.groupby('Country')['Total'].sum()"
   ]
  },
  {
   "cell_type": "raw",
   "metadata": {},
   "source": [
    "Desired Output:\n",
    "\n",
    "Country\n",
    "Australia                137077.270\n",
    "Austria                   10154.320\n",
    "Bahrain                     548.400\n",
    "Belgium                   40910.960\n",
    "Brazil                     1143.600\n",
    "Canada                     3666.380\n",
    "Channel Islands           20086.290\n",
    "Cyprus                    12946.290\n",
    "Czech Republic              707.720\n",
    "Denmark                   18768.140\n",
    "EIRE                     263276.820\n",
    "European Community         1291.750\n",
    "Finland                   22326.740\n",
    "France                   197403.900\n",
    "Germany                  221698.210\n",
    "Greece                     4710.520\n",
    "Hong Kong                 10117.040\n",
    "Iceland                    4310.000\n",
    "Israel                     7907.820\n",
    "Italy                     16890.510\n",
    "Japan                     35340.620\n",
    "Lebanon                    1693.880\n",
    "Lithuania                  1661.060\n",
    "Malta                      2505.470\n",
    "Netherlands              284661.540\n",
    "Norway                    35163.460\n",
    "Poland                     7213.140\n",
    "Portugal                  29367.020\n",
    "RSA                        1002.310\n",
    "Saudi Arabia                131.170\n",
    "Singapore                  9120.390\n",
    "Spain                     54774.580\n",
    "Sweden                    36595.910\n",
    "Switzerland               56385.350\n",
    "USA                        1730.920\n",
    "United Arab Emirates       1902.280\n",
    "United Kingdom          8187806.364\n",
    "Unspecified                4749.790\n",
    "Name: Total, dtype: float64"
   ]
  },
  {
   "cell_type": "code",
   "execution_count": null,
   "metadata": {},
   "outputs": [],
   "source": [
    "# YOUR CODE IS HERE \n",
    "\n",
    "((ecom.groupby('Country')['Total'].sum()/ecom.groupby('Country')['Total'].sum().sum())*100).sort_values(ascending=False)"
   ]
  },
  {
   "cell_type": "raw",
   "metadata": {},
   "source": [
    "Desired Output:\n",
    "\n",
    "Country\n",
    "United Kingdom          83.996903\n",
    "Netherlands              2.920280\n",
    "EIRE                     2.700899\n",
    "Germany                  2.274353\n",
    "France                   2.025123\n",
    "Australia                1.406246\n",
    "Switzerland              0.578445\n",
    "Spain                    0.561920\n",
    "Belgium                  0.419697\n",
    "Sweden                   0.375429\n",
    "Japan                    0.362552\n",
    "Norway                   0.360734\n",
    "Portugal                 0.301270\n",
    "Finland                  0.229045\n",
    "Channel Islands          0.206061\n",
    "Denmark                  0.192538\n",
    "Italy                    0.173276\n",
    "Cyprus                   0.132813\n",
    "Austria                  0.104171\n",
    "Hong Kong                0.103788\n",
    "Singapore                0.093564\n",
    "Israel                   0.081125\n",
    "Poland                   0.073998\n",
    "Unspecified              0.048727\n",
    "Greece                   0.048324\n",
    "Iceland                  0.044215\n",
    "Canada                   0.037613\n",
    "Malta                    0.025703\n",
    "United Arab Emirates     0.019515\n",
    "USA                      0.017757\n",
    "Lebanon                  0.017377\n",
    "Lithuania                0.017040\n",
    "European Community       0.013252\n",
    "Brazil                   0.011732\n",
    "RSA                      0.010282\n",
    "Czech Republic           0.007260\n",
    "Bahrain                  0.005626\n",
    "Saudi Arabia             0.001346\n",
    "Name: Total, dtype: float64"
   ]
  },
  {
   "cell_type": "markdown",
   "metadata": {
    "id": "pBsCg6DS-dbj"
   },
   "source": [
    "### <p style=\"background-color:#9d4f8c; font-family:newtimeroman; color:#FFF9ED; font-size:150%; text-align:center; border-radius:10px 10px;\">Task 09: Which Country spend least?</p>\n",
    "\n",
    "<a id=\"10\"></a>\n",
    "<a href=\"#toc\" class=\"btn btn-primary btn-sm\" role=\"button\" aria-pressed=\"true\" \n",
    "style=\"color:blue; background-color:#dfa8e4\" data-toggle=\"popover\">Content</a>"
   ]
  },
  {
   "cell_type": "code",
   "execution_count": null,
   "metadata": {},
   "outputs": [],
   "source": [
    "# YOUR CODE IS HERE \n",
    "\n",
    "ecom.groupby('Country')['Total'].sum().sort_values(ascending=False).head(1)"
   ]
  },
  {
   "cell_type": "raw",
   "metadata": {},
   "source": [
    "Desired Output:\n",
    "\n",
    "Country\n",
    "Saudi Arabia    131.17\n",
    "Name: Total, dtype: float64"
   ]
  },
  {
   "cell_type": "markdown",
   "metadata": {
    "id": "pBSVhNzq-dbk"
   },
   "source": [
    "### <p style=\"background-color:#9d4f8c; font-family:newtimeroman; color:#FFF9ED; font-size:150%; text-align:center; border-radius:10px 10px;\">Task 10: Calculate the average of spending according to country with apply function and create a new feature named \"Average_Spend\"</p>\n",
    "\n",
    "<a id=\"11\"></a>\n",
    "<a href=\"#toc\" class=\"btn btn-primary btn-sm\" role=\"button\" aria-pressed=\"true\" \n",
    "style=\"color:blue; background-color:#dfa8e4\" data-toggle=\"popover\">Content</a>"
   ]
  },
  {
   "cell_type": "code",
   "execution_count": null,
   "metadata": {},
   "outputs": [],
   "source": [
    "# YOUR CODE IS HERE \n",
    "\n",
    "ecom.groupby('Country')['Total'].apply(lambda x: x.mean())"
   ]
  },
  {
   "cell_type": "raw",
   "metadata": {},
   "source": [
    "Desired Output:\n",
    "\n",
    "Country\n",
    "Australia               108.877895\n",
    "Austria                  25.322494\n",
    "Bahrain                  28.863158\n",
    "Belgium                  19.773301\n",
    "Brazil                   35.737500\n",
    "Canada                   24.280662\n",
    "Channel Islands          26.499063\n",
    "Cyprus                   20.813971\n",
    "Czech Republic           23.590667\n",
    "Denmark                  48.247147\n",
    "EIRE                     32.122599\n",
    "European Community       21.176230\n",
    "Finland                  32.124806\n",
    "France                   23.069288\n",
    "Germany                  23.348943\n",
    "Greece                   32.263836\n",
    "Hong Kong                35.128611\n",
    "Iceland                  23.681319\n",
    "Israel                   26.625657\n",
    "Italy                    21.034259\n",
    "Japan                    98.716816\n",
    "Lebanon                  37.641778\n",
    "Lithuania                47.458857\n",
    "Malta                    19.728110\n",
    "Netherlands             120.059696\n",
    "Norway                   32.378877\n",
    "Poland                   21.152903\n",
    "Portugal                 19.333127\n",
    "RSA                      17.281207\n",
    "Saudi Arabia             13.117000\n",
    "Singapore                39.827031\n",
    "Spain                    21.624390\n",
    "Sweden                   79.211926\n",
    "Switzerland              28.164510\n",
    "USA                       5.948179\n",
    "United Arab Emirates     27.974706\n",
    "United Kingdom           16.525065\n",
    "Unspecified              10.649753\n",
    "Name: Total, dtype: float64"
   ]
  },
  {
   "cell_type": "code",
   "execution_count": null,
   "metadata": {},
   "outputs": [],
   "source": [
    "# YOUR CODE IS HERE \n",
    "\n",
    "ecom['Avarege_Spend']=ecom.geoupby('Country')['Total'].transform('mean')\n",
    "ecom.head(3)"
   ]
  },
  {
   "cell_type": "markdown",
   "metadata": {},
   "source": [
    "Desired Output:\n",
    "\n",
    "![image.png](https://i.ibb.co/b3m1jhs/assignment2c.png)"
   ]
  },
  {
   "cell_type": "markdown",
   "metadata": {
    "id": "dTJIL5ls-dbl"
   },
   "source": [
    "### <p style=\"background-color:#9d4f8c; font-family:newtimeroman; color:#FFF9ED; font-size:150%; text-align:center; border-radius:10px 10px;\">Task 11: Calculate average, min, max of spending according to country with agg() function and create new features named \"Max_Spend\" and \"Min_Spend\"</p>\n",
    "\n",
    "<a id=\"12\"></a>\n",
    "<a href=\"#toc\" class=\"btn btn-primary btn-sm\" role=\"button\" aria-pressed=\"true\" \n",
    "style=\"color:blue; background-color:#dfa8e4\" data-toggle=\"popover\">Content</a>"
   ]
  },
  {
   "cell_type": "code",
   "execution_count": null,
   "metadata": {},
   "outputs": [],
   "source": [
    "# YOUR CODE IS HERE \n",
    "\n",
    "ecom.groupby('Country')['Total'].agg([min,np.mean,max])"
   ]
  },
  {
   "cell_type": "markdown",
   "metadata": {},
   "source": [
    "Desired Output:\n",
    "\n",
    "![image.png](https://i.ibb.co/0qRCRjH/assignment2d.png)"
   ]
  },
  {
   "cell_type": "code",
   "execution_count": null,
   "metadata": {},
   "outputs": [],
   "source": [
    "# YOUR CODE IS HERE \n",
    "ecom['Max_Spend']=ecom.groupby('Country')['Total'].transform('max')\n",
    "ecom['Min_Spend']=ecom.groupby('Country')['Total'].transform('min')\n",
    "ecom\n"
   ]
  },
  {
   "cell_type": "markdown",
   "metadata": {},
   "source": [
    "Desired Output:\n",
    "\n",
    "![image.png](https://i.ibb.co/Smd3Tkt/assignment2e.png)"
   ]
  },
  {
   "cell_type": "markdown",
   "metadata": {
    "id": "rgT8VYoq-dbm"
   },
   "source": [
    "### <p style=\"background-color:#9d4f8c; font-family:newtimeroman; color:#FFF9ED; font-size:150%; text-align:center; border-radius:10px 10px;\">Task 12: What is the max Total spending in whole dataset and show all records of that spending?</p>\n",
    "\n",
    "<a id=\"13\"></a>\n",
    "<a href=\"#toc\" class=\"btn btn-primary btn-sm\" role=\"button\" aria-pressed=\"true\" \n",
    "style=\"color:blue; background-color:#dfa8e4\" data-toggle=\"popover\">Content</a>"
   ]
  },
  {
   "cell_type": "code",
   "execution_count": null,
   "metadata": {},
   "outputs": [],
   "source": [
    "# YOUR CODE IS HERE \n",
    "\n",
    "ecom.iloc[[ecom.Total.idxmax()]]"
   ]
  },
  {
   "cell_type": "markdown",
   "metadata": {},
   "source": [
    "Desired Output:\n",
    "\n",
    "![image.png](https://i.ibb.co/2W9t4nh/assignment2f.png)"
   ]
  },
  {
   "cell_type": "markdown",
   "metadata": {
    "id": "Ul4xACYX-dbm"
   },
   "source": [
    "### <p style=\"background-color:#9d4f8c; font-family:newtimeroman; color:#FFF9ED; font-size:150%; text-align:center; border-radius:10px 10px;\">Task 13: How many people who live in Spain spend more than average Total?</p>\n",
    "\n",
    "<a id=\"14\"></a>\n",
    "<a href=\"#toc\" class=\"btn btn-primary btn-sm\" role=\"button\" aria-pressed=\"true\" \n",
    "style=\"color:blue; background-color:#dfa8e4\" data-toggle=\"popover\">Content</a>"
   ]
  },
  {
   "cell_type": "code",
   "execution_count": null,
   "metadata": {},
   "outputs": [],
   "source": [
    "# YOUR CODE IS HERE \n",
    "\n",
    "ecom[(ecom['Country']=='Spain')&(ecom['Total']>ecom['Total'].mean())].count()"
   ]
  },
  {
   "cell_type": "raw",
   "metadata": {},
   "source": [
    "Desired Output:\n",
    "\n",
    "InvoiceNo        728\n",
    "StockCode        728\n",
    "Description      728\n",
    "Quantity         728\n",
    "InvoiceDate      728\n",
    "UnitPrice        728\n",
    "CustomerID       728\n",
    "Country          728\n",
    "Total            728\n",
    "Average_Spend    728\n",
    "dtype: int64"
   ]
  },
  {
   "cell_type": "markdown",
   "metadata": {
    "id": "gLZj7IOO-dbn"
   },
   "source": [
    "### <p style=\"background-color:#9d4f8c; font-family:newtimeroman; color:#FFF9ED; font-size:150%; text-align:center; border-radius:10px 10px;\">Task 14: Convert datatype of \"InvoiceDate\" to datetime and assign it to new column named \"InvoiceDate2\"</p>\n",
    "\n",
    "<a id=\"15\"></a>\n",
    "<a href=\"#toc\" class=\"btn btn-primary btn-sm\" role=\"button\" aria-pressed=\"true\" \n",
    "style=\"color:blue; background-color:#dfa8e4\" data-toggle=\"popover\">Content</a>"
   ]
  },
  {
   "cell_type": "code",
   "execution_count": null,
   "metadata": {},
   "outputs": [],
   "source": [
    "# YOUR CODE IS HERE \n",
    "\n",
    "ecom['InvoiceDate2']=pd.to_datetime(ecom['InvoiceDate'])\n",
    "ecom['InvoiceDate2']"
   ]
  },
  {
   "cell_type": "raw",
   "metadata": {},
   "source": [
    "Desired Output:\n",
    "\n",
    "0        2010-12-01 08:26:00\n",
    "1        2010-12-01 08:26:00\n",
    "2        2010-12-01 08:26:00\n",
    "3        2010-12-01 08:26:00\n",
    "4        2010-12-01 08:26:00\n",
    "                 ...        \n",
    "541904   2011-12-09 12:50:00\n",
    "541905   2011-12-09 12:50:00\n",
    "541906   2011-12-09 12:50:00\n",
    "541907   2011-12-09 12:50:00\n",
    "541908   2011-12-09 12:50:00\n",
    "Name: InvoiceDate2, Length: 541909, dtype: datetime64[ns]"
   ]
  },
  {
   "cell_type": "code",
   "execution_count": null,
   "metadata": {},
   "outputs": [],
   "source": [
    "# YOUR CODE IS HERE \n",
    "\n",
    "ecom.info()"
   ]
  },
  {
   "cell_type": "raw",
   "metadata": {},
   "source": [
    "Desired Output:\n",
    "\n",
    "<class 'pandas.core.frame.DataFrame'>\n",
    "RangeIndex: 541909 entries, 0 to 541908\n",
    "Data columns (total 11 columns):\n",
    " #   Column         Non-Null Count   Dtype         \n",
    "---  ------         --------------   -----         \n",
    " 0   InvoiceNo      541909 non-null  object        \n",
    " 1   StockCode      541909 non-null  object        \n",
    " 2   Description    540455 non-null  object        \n",
    " 3   Quantity       541909 non-null  int64         \n",
    " 4   InvoiceDate    541909 non-null  object        \n",
    " 5   UnitPrice      541909 non-null  float64       \n",
    " 6   CustomerID     406829 non-null  float64       \n",
    " 7   Country        541909 non-null  object        \n",
    " 8   Total          541909 non-null  float64       \n",
    " 9   Average_Spend  541909 non-null  float64       \n",
    " 10  InvoiceDate2   541909 non-null  datetime64[ns]\n",
    "dtypes: datetime64[ns](1), float64(4), int64(1), object(5)\n",
    "memory usage: 45.5+ MB"
   ]
  },
  {
   "cell_type": "markdown",
   "metadata": {
    "id": "h7qU1cEN-dbo"
   },
   "source": [
    "### <p style=\"background-color:#9d4f8c; font-family:newtimeroman; color:#FFF9ED; font-size:150%; text-align:center; border-radius:10px 10px;\">Task 15: Take only date values (year-month-day) from InvoiceDate2 and assign it to a new column named **``date``**</p>\n",
    "\n",
    "<a id=\"16\"></a>\n",
    "<a href=\"#toc\" class=\"btn btn-primary btn-sm\" role=\"button\" aria-pressed=\"true\" \n",
    "style=\"color:blue; background-color:#dfa8e4\" data-toggle=\"popover\">Content</a>"
   ]
  },
  {
   "cell_type": "code",
   "execution_count": null,
   "metadata": {},
   "outputs": [],
   "source": [
    "# YOUR CODE IS HERE \n",
    "\n",
    "ecom['InvoiceDate2'].dt.date"
   ]
  },
  {
   "cell_type": "raw",
   "metadata": {},
   "source": [
    "Desired Output:\n",
    "\n",
    "0         2010-12-01\n",
    "1         2010-12-01\n",
    "2         2010-12-01\n",
    "3         2010-12-01\n",
    "4         2010-12-01\n",
    "             ...    \n",
    "541904    2011-12-09\n",
    "541905    2011-12-09\n",
    "541906    2011-12-09\n",
    "541907    2011-12-09\n",
    "541908    2011-12-09\n",
    "Name: date, Length: 541909, dtype: object"
   ]
  },
  {
   "cell_type": "code",
   "execution_count": null,
   "metadata": {},
   "outputs": [],
   "source": [
    "# YOUR CODE IS HERE \n",
    "\n",
    "ecom['date']=ecom['InvoiceDate2'].dt.date\n",
    "ecom.head()"
   ]
  },
  {
   "cell_type": "markdown",
   "metadata": {},
   "source": [
    "Desired Output:\n",
    "\n",
    "![image.png](https://i.ibb.co/hdQm0jx/assignment2g.png)"
   ]
  },
  {
   "cell_type": "markdown",
   "metadata": {
    "id": "YCv4VuBv-dbp"
   },
   "source": [
    "### <p style=\"background-color:#9d4f8c; font-family:newtimeroman; color:#FFF9ED; font-size:150%; text-align:center; border-radius:10px 10px;\">Task 16: Drop \"InvoiceDate2\" and \"InvoiceDate\" columns permanently</p>\n",
    "\n",
    "<a id=\"17\"></a>\n",
    "<a href=\"#toc\" class=\"btn btn-primary btn-sm\" role=\"button\" aria-pressed=\"true\" \n",
    "style=\"color:blue; background-color:#dfa8e4\" data-toggle=\"popover\">Content</a>"
   ]
  },
  {
   "cell_type": "code",
   "execution_count": null,
   "metadata": {},
   "outputs": [],
   "source": [
    "# YOUR CODE IS HERE \n",
    "ecom.drop(columns=['InvoiceDate','InvoiceDate2'],inplace=True)\n",
    "ecom.head()"
   ]
  },
  {
   "cell_type": "markdown",
   "metadata": {},
   "source": [
    "Desired Output:\n",
    "\n",
    "![image.png](https://i.ibb.co/2dPtL0k/assignment2h.png)"
   ]
  },
  {
   "cell_type": "markdown",
   "metadata": {
    "id": "Mog5ONKk-dbp"
   },
   "source": [
    "### <p style=\"background-color:#9d4f8c; font-family:newtimeroman; color:#FFF9ED; font-size:150%; text-align:center; border-radius:10px 10px;\">Task 17: Remove A, B, G and E characters at the first 5 rows of \"StockCode\" in ecom dataframe with a string method</p>\n",
    "\n",
    "<a id=\"18\"></a>\n",
    "<a href=\"#toc\" class=\"btn btn-primary btn-sm\" role=\"button\" aria-pressed=\"true\" \n",
    "style=\"color:blue; background-color:#dfa8e4\" data-toggle=\"popover\">Content</a>"
   ]
  },
  {
   "cell_type": "code",
   "execution_count": null,
   "metadata": {},
   "outputs": [],
   "source": [
    "# YOUR CODE IS HERE \n",
    "ecom['StockCode'][:5].str.strip('ABGE')"
   ]
  },
  {
   "cell_type": "raw",
   "metadata": {},
   "source": [
    "Desired Output:\n",
    "\n",
    "0    85123\n",
    "1    71053\n",
    "2    84406\n",
    "3    84029\n",
    "4    84029\n",
    "Name: StockCode, dtype: object"
   ]
  },
  {
   "cell_type": "markdown",
   "metadata": {
    "id": "BtrzN7IK-dbq"
   },
   "source": [
    "### <p style=\"background-color:#9d4f8c; font-family:newtimeroman; color:#FFF9ED; font-size:150%; text-align:center; border-radius:10px 10px;\">Task 18: Take only \"Total\" and \"date\" columns with loc and craete a new df named **``ecom2``**</p>\n",
    "\n",
    "<a id=\"19\"></a>\n",
    "<a href=\"#toc\" class=\"btn btn-primary btn-sm\" role=\"button\" aria-pressed=\"true\" \n",
    "style=\"color:blue; background-color:#dfa8e4\" data-toggle=\"popover\">Content</a>"
   ]
  },
  {
   "cell_type": "code",
   "execution_count": null,
   "metadata": {},
   "outputs": [],
   "source": [
    "# YOUR CODE IS HERE \n",
    "\n",
    "ecom2=ecom.loc[:,['Total','date']]\n",
    "ecom2"
   ]
  },
  {
   "cell_type": "markdown",
   "metadata": {},
   "source": [
    "Desired Output:\n",
    "\n",
    "![image.png](https://i.ibb.co/yFyxdCz/assignment2j.png)"
   ]
  },
  {
   "cell_type": "markdown",
   "metadata": {
    "id": "PUS1I-PW-dbs"
   },
   "source": [
    "### <p style=\"background-color:#9d4f8c; font-family:newtimeroman; color:#FFF9ED; font-size:150%; text-align:center; border-radius:10px 10px;\">Task 19: Take only \"InvoiceNo\" \"CustomerID\" and \"Total\" columns with iloc and craete a new df named **``ecom3``**</p>\n",
    "\n",
    "<a id=\"20\"></a>\n",
    "<a href=\"#toc\" class=\"btn btn-primary btn-sm\" role=\"button\" aria-pressed=\"true\" \n",
    "style=\"color:blue; background-color:#dfa8e4\" data-toggle=\"popover\">Content</a>"
   ]
  },
  {
   "cell_type": "code",
   "execution_count": null,
   "metadata": {},
   "outputs": [],
   "source": [
    "# YOUR CODE IS HERE \n",
    "\n",
    "ecom3=ecom.iloc[:,[0,5,7]]\n",
    "ecom3"
   ]
  },
  {
   "cell_type": "markdown",
   "metadata": {},
   "source": [
    "Desired Output:\n",
    "\n",
    "![image.png](https://i.ibb.co/9HsWScR/assignment2k.png)"
   ]
  },
  {
   "cell_type": "markdown",
   "metadata": {
    "id": "TPd1LYKw-dbt"
   },
   "source": [
    "### <p style=\"background-color:#9d4f8c; font-family:newtimeroman; color:#FFF9ED; font-size:150%; text-align:center; border-radius:10px 10px;\">Task 20: Combine \"ecom2\" and \"ecom3\" with concat() method</p>\n",
    "\n",
    "<a id=\"21\"></a>\n",
    "<a href=\"#toc\" class=\"btn btn-primary btn-sm\" role=\"button\" aria-pressed=\"true\" \n",
    "style=\"color:blue; background-color:#dfa8e4\" data-toggle=\"popover\">Content</a>"
   ]
  },
  {
   "cell_type": "code",
   "execution_count": null,
   "metadata": {},
   "outputs": [],
   "source": [
    "# YOUR CODE IS HERE \n",
    "\n",
    "pd.concat([ecom2,ecom3],axis=1])"
   ]
  },
  {
   "cell_type": "markdown",
   "metadata": {},
   "source": [
    "Desired Output:\n",
    "\n",
    "![image.png](https://i.ibb.co/6NGsVMy/assignment2l.png)"
   ]
  },
  {
   "cell_type": "markdown",
   "metadata": {
    "id": "dnhYOvX7-dbu"
   },
   "source": [
    "### <p style=\"background-color:#9d4f8c; font-family:newtimeroman; color:#FFF9ED; font-size:150%; text-align:center; border-radius:10px 10px;\">Task 21: Combine the common (intersected) values of \"ecom2\" and \"ecom3\" with merge() method</p>\n",
    "\n",
    "<a id=\"22\"></a>\n",
    "<a href=\"#toc\" class=\"btn btn-primary btn-sm\" role=\"button\" aria-pressed=\"true\" \n",
    "style=\"color:blue; background-color:#dfa8e4\" data-toggle=\"popover\">Content</a>\n",
    "\n",
    "**If \"MemoryError\" occurs, take only the first 100 rows from both DFs**"
   ]
  },
  {
   "cell_type": "code",
   "execution_count": null,
   "metadata": {},
   "outputs": [],
   "source": [
    "# YOUR CODE IS HERE \n",
    "\n",
    "pd.merge(ecom2[:100],ecom3[:100].drop_duplicates(subset=['Total']),on='Total')"
   ]
  },
  {
   "cell_type": "markdown",
   "metadata": {},
   "source": [
    "Desired Output:\n",
    "\n",
    "![image.png](https://i.ibb.co/3cgVkjv/assignment2m.png)"
   ]
  },
  {
   "cell_type": "markdown",
   "metadata": {
    "id": "SIytgbd7-dbv"
   },
   "source": [
    "### <p style=\"background-color:#9d4f8c; font-family:newtimeroman; color:#FFF9ED; font-size:150%; text-align:center; border-radius:10px 10px;\">Task 22: Combine \"ecom2\" and \"ecom3\" with join() method</p>\n",
    "\n",
    "<a id=\"23\"></a>\n",
    "<a href=\"#toc\" class=\"btn btn-primary btn-sm\" role=\"button\" aria-pressed=\"true\" \n",
    "style=\"color:blue; background-color:#dfa8e4\" data-toggle=\"popover\">Content</a>"
   ]
  },
  {
   "cell_type": "code",
   "execution_count": null,
   "metadata": {},
   "outputs": [],
   "source": [
    "# YOUR CODE IS HERE \n",
    "ecom2.join(ecom3,lsuffix='_left',rsuffix='_right')\n"
   ]
  },
  {
   "cell_type": "markdown",
   "metadata": {},
   "source": [
    "Desired Output:\n",
    "\n",
    "![image.png](https://i.ibb.co/DfS2KqQ/assignment2n.png)"
   ]
  },
  {
   "cell_type": "markdown",
   "metadata": {
    "id": "5x2MPEO3-dbv"
   },
   "source": [
    "## <p style=\"background-color:#9d4f8c; font-family:newtimeroman; color:#FFF9ED; font-size:150%; text-align:center; border-radius:10px 10px;\">THE END OF THE ASSIGNMENT 02</p>\n",
    "\n",
    "# Now. it's time to relax!\n",
    "\n",
    "![Image_Assignment](https://i.ibb.co/jZD3Mqb/relaxing.jpg)\n",
    "\n",
    "<p style=\"text-align: center;\"><img src=\"https://docs.google.com/uc?id=1lY0Uj5R04yMY3-ZppPWxqCr5pvBLYPnV\" class=\"img-fluid\" \n",
    "alt=\"CLRSWY\"></p>\n",
    "\n",
    "## <p style=\"background-color:#FDFEFE; font-family:newtimeroman; color:#9d4f8c; font-size:100%; text-align:center; border-radius:10px 10px;\">WAY TO REINVENT YOURSELF</p>\n",
    "\n",
    "<a id=\"24\"></a>\n",
    "<a href=\"#toc\" class=\"btn btn-primary btn-sm\" role=\"button\" aria-pressed=\"true\" \n",
    "style=\"color:blue; background-color:#dfa8e4\" data-toggle=\"popover\">Content</a>\n",
    "___"
   ]
  }
 ],
 "metadata": {
  "colab": {
   "name": "Copy of Assignment2-Solutions.ipynb",
   "provenance": []
  },
  "kernelspec": {
   "display_name": "Python 3 (ipykernel)",
   "language": "python",
   "name": "python3"
  },
  "language_info": {
   "codemirror_mode": {
    "name": "ipython",
    "version": 3
   },
   "file_extension": ".py",
   "mimetype": "text/x-python",
   "name": "python",
   "nbconvert_exporter": "python",
   "pygments_lexer": "ipython3",
   "version": "3.12.2"
  },
  "toc": {
   "base_numbering": 1,
   "nav_menu": {},
   "number_sections": false,
   "sideBar": true,
   "skip_h1_title": false,
   "title_cell": "Table of Contents",
   "title_sidebar": "Contents",
   "toc_cell": false,
   "toc_position": {},
   "toc_section_display": true,
   "toc_window_display": true
  }
 },
 "nbformat": 4,
 "nbformat_minor": 1
}
